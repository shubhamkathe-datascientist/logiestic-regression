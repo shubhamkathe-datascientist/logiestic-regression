{
 "cells": [
  {
   "cell_type": "code",
   "execution_count": 1,
   "id": "0595493c",
   "metadata": {},
   "outputs": [],
   "source": [
    "import pandas as pd\n",
    "import numpy as np"
   ]
  },
  {
   "cell_type": "code",
   "execution_count": 2,
   "id": "60b78f81",
   "metadata": {},
   "outputs": [],
   "source": [
    "cr=pd.read_csv(r\"D:\\python files\\CreditRisk.csv\")"
   ]
  },
  {
   "cell_type": "code",
   "execution_count": 3,
   "id": "0f193498",
   "metadata": {},
   "outputs": [
    {
     "data": {
      "text/html": [
       "<div>\n",
       "<style scoped>\n",
       "    .dataframe tbody tr th:only-of-type {\n",
       "        vertical-align: middle;\n",
       "    }\n",
       "\n",
       "    .dataframe tbody tr th {\n",
       "        vertical-align: top;\n",
       "    }\n",
       "\n",
       "    .dataframe thead th {\n",
       "        text-align: right;\n",
       "    }\n",
       "</style>\n",
       "<table border=\"1\" class=\"dataframe\">\n",
       "  <thead>\n",
       "    <tr style=\"text-align: right;\">\n",
       "      <th></th>\n",
       "      <th>Loan_ID</th>\n",
       "      <th>Gender</th>\n",
       "      <th>Married</th>\n",
       "      <th>Dependents</th>\n",
       "      <th>Education</th>\n",
       "      <th>Self_Employed</th>\n",
       "      <th>ApplicantIncome</th>\n",
       "      <th>CoapplicantIncome</th>\n",
       "      <th>LoanAmount</th>\n",
       "      <th>Loan_Amount_Term</th>\n",
       "      <th>Credit_History</th>\n",
       "      <th>Property_Area</th>\n",
       "      <th>Loan_Status</th>\n",
       "    </tr>\n",
       "  </thead>\n",
       "  <tbody>\n",
       "    <tr>\n",
       "      <th>0</th>\n",
       "      <td>LP001002</td>\n",
       "      <td>Male</td>\n",
       "      <td>No</td>\n",
       "      <td>0.0</td>\n",
       "      <td>Graduate</td>\n",
       "      <td>No</td>\n",
       "      <td>5849</td>\n",
       "      <td>0.0</td>\n",
       "      <td>NaN</td>\n",
       "      <td>360.0</td>\n",
       "      <td>1.0</td>\n",
       "      <td>Urban</td>\n",
       "      <td>Y</td>\n",
       "    </tr>\n",
       "    <tr>\n",
       "      <th>1</th>\n",
       "      <td>LP001003</td>\n",
       "      <td>Male</td>\n",
       "      <td>Yes</td>\n",
       "      <td>1.0</td>\n",
       "      <td>Graduate</td>\n",
       "      <td>No</td>\n",
       "      <td>4583</td>\n",
       "      <td>1508.0</td>\n",
       "      <td>128.0</td>\n",
       "      <td>360.0</td>\n",
       "      <td>1.0</td>\n",
       "      <td>Rural</td>\n",
       "      <td>N</td>\n",
       "    </tr>\n",
       "    <tr>\n",
       "      <th>2</th>\n",
       "      <td>LP001005</td>\n",
       "      <td>Male</td>\n",
       "      <td>Yes</td>\n",
       "      <td>0.0</td>\n",
       "      <td>Graduate</td>\n",
       "      <td>Yes</td>\n",
       "      <td>3000</td>\n",
       "      <td>0.0</td>\n",
       "      <td>66.0</td>\n",
       "      <td>360.0</td>\n",
       "      <td>1.0</td>\n",
       "      <td>Urban</td>\n",
       "      <td>Y</td>\n",
       "    </tr>\n",
       "    <tr>\n",
       "      <th>3</th>\n",
       "      <td>LP001006</td>\n",
       "      <td>Male</td>\n",
       "      <td>Yes</td>\n",
       "      <td>0.0</td>\n",
       "      <td>Not Graduate</td>\n",
       "      <td>No</td>\n",
       "      <td>2583</td>\n",
       "      <td>2358.0</td>\n",
       "      <td>120.0</td>\n",
       "      <td>360.0</td>\n",
       "      <td>1.0</td>\n",
       "      <td>Urban</td>\n",
       "      <td>Y</td>\n",
       "    </tr>\n",
       "    <tr>\n",
       "      <th>4</th>\n",
       "      <td>LP001008</td>\n",
       "      <td>Male</td>\n",
       "      <td>No</td>\n",
       "      <td>0.0</td>\n",
       "      <td>Graduate</td>\n",
       "      <td>No</td>\n",
       "      <td>6000</td>\n",
       "      <td>0.0</td>\n",
       "      <td>141.0</td>\n",
       "      <td>360.0</td>\n",
       "      <td>1.0</td>\n",
       "      <td>Urban</td>\n",
       "      <td>Y</td>\n",
       "    </tr>\n",
       "  </tbody>\n",
       "</table>\n",
       "</div>"
      ],
      "text/plain": [
       "    Loan_ID Gender Married  Dependents     Education Self_Employed  \\\n",
       "0  LP001002   Male      No         0.0      Graduate            No   \n",
       "1  LP001003   Male     Yes         1.0      Graduate            No   \n",
       "2  LP001005   Male     Yes         0.0      Graduate           Yes   \n",
       "3  LP001006   Male     Yes         0.0  Not Graduate            No   \n",
       "4  LP001008   Male      No         0.0      Graduate            No   \n",
       "\n",
       "   ApplicantIncome  CoapplicantIncome  LoanAmount  Loan_Amount_Term  \\\n",
       "0             5849                0.0         NaN             360.0   \n",
       "1             4583             1508.0       128.0             360.0   \n",
       "2             3000                0.0        66.0             360.0   \n",
       "3             2583             2358.0       120.0             360.0   \n",
       "4             6000                0.0       141.0             360.0   \n",
       "\n",
       "   Credit_History Property_Area Loan_Status  \n",
       "0             1.0         Urban           Y  \n",
       "1             1.0         Rural           N  \n",
       "2             1.0         Urban           Y  \n",
       "3             1.0         Urban           Y  \n",
       "4             1.0         Urban           Y  "
      ]
     },
     "execution_count": 3,
     "metadata": {},
     "output_type": "execute_result"
    }
   ],
   "source": [
    "cr.head()"
   ]
  },
  {
   "cell_type": "code",
   "execution_count": 4,
   "id": "5bb11c30",
   "metadata": {},
   "outputs": [
    {
     "data": {
      "text/plain": [
       "(981, 13)"
      ]
     },
     "execution_count": 4,
     "metadata": {},
     "output_type": "execute_result"
    }
   ],
   "source": [
    "cr.shape"
   ]
  },
  {
   "cell_type": "code",
   "execution_count": null,
   "id": "6485db2e",
   "metadata": {},
   "outputs": [],
   "source": []
  },
  {
   "cell_type": "code",
   "execution_count": null,
   "id": "a70b3fea",
   "metadata": {},
   "outputs": [],
   "source": []
  },
  {
   "cell_type": "code",
   "execution_count": null,
   "id": "34ade5bf",
   "metadata": {},
   "outputs": [],
   "source": []
  },
  {
   "cell_type": "code",
   "execution_count": null,
   "id": "4788adfb",
   "metadata": {},
   "outputs": [],
   "source": []
  },
  {
   "cell_type": "code",
   "execution_count": null,
   "id": "524732f2",
   "metadata": {},
   "outputs": [],
   "source": []
  },
  {
   "cell_type": "code",
   "execution_count": null,
   "id": "f59e7550",
   "metadata": {},
   "outputs": [],
   "source": []
  },
  {
   "cell_type": "code",
   "execution_count": null,
   "id": "3b2f946a",
   "metadata": {},
   "outputs": [],
   "source": []
  },
  {
   "cell_type": "code",
   "execution_count": null,
   "id": "338f9d34",
   "metadata": {},
   "outputs": [],
   "source": []
  },
  {
   "cell_type": "code",
   "execution_count": 5,
   "id": "1d6c9aeb",
   "metadata": {},
   "outputs": [
    {
     "data": {
      "text/plain": [
       "Gender              24\n",
       "Married              3\n",
       "Dependents          25\n",
       "Self_Employed       55\n",
       "LoanAmount          27\n",
       "Loan_Amount_Term    20\n",
       "Credit_History      79\n",
       "dtype: int64"
      ]
     },
     "execution_count": 5,
     "metadata": {},
     "output_type": "execute_result"
    }
   ],
   "source": [
    "cr.isnull().sum()[cr.isnull().sum()>0]"
   ]
  },
  {
   "cell_type": "code",
   "execution_count": 13,
   "id": "edbaa088",
   "metadata": {},
   "outputs": [],
   "source": [
    "cr.Gender=cr.Gender.fillna('Male')\n",
    "cr.Married=cr.Married.fillna('Yes')\n",
    "cr.Dependents=cr.Dependents.fillna('0')\n",
    "cr.Self_Employed=cr.Self_Employed.fillna('No')\n",
    "cr.LoanAmount=cr.LoanAmount.fillna(cr.LoanAmount.mean())\n",
    "cr.Loan_Amount_Term=cr.Loan_Amount_Term.fillna(cr.Loan_Amount_Term.mean())\n",
    "cr.Credit_History=cr.Credit_History.fillna(0)"
   ]
  },
  {
   "cell_type": "code",
   "execution_count": 15,
   "id": "a19a7c4b",
   "metadata": {},
   "outputs": [
    {
     "name": "stdout",
     "output_type": "stream",
     "text": [
      "<class 'pandas.core.frame.DataFrame'>\n",
      "RangeIndex: 981 entries, 0 to 980\n",
      "Data columns (total 13 columns):\n",
      " #   Column             Non-Null Count  Dtype  \n",
      "---  ------             --------------  -----  \n",
      " 0   Loan_ID            981 non-null    object \n",
      " 1   Gender             981 non-null    object \n",
      " 2   Married            981 non-null    object \n",
      " 3   Dependents         981 non-null    object \n",
      " 4   Education          981 non-null    object \n",
      " 5   Self_Employed      981 non-null    object \n",
      " 6   ApplicantIncome    981 non-null    int64  \n",
      " 7   CoapplicantIncome  981 non-null    float64\n",
      " 8   LoanAmount         981 non-null    float64\n",
      " 9   Loan_Amount_Term   981 non-null    float64\n",
      " 10  Credit_History     981 non-null    float64\n",
      " 11  Property_Area      981 non-null    object \n",
      " 12  Loan_Status        981 non-null    object \n",
      "dtypes: float64(4), int64(1), object(8)\n",
      "memory usage: 99.8+ KB\n"
     ]
    }
   ],
   "source": [
    "cr.info()"
   ]
  },
  {
   "cell_type": "code",
   "execution_count": 17,
   "id": "d1d62651",
   "metadata": {},
   "outputs": [],
   "source": [
    "from sklearn.preprocessing import LabelEncoder\n",
    "le=LabelEncoder()"
   ]
  },
  {
   "cell_type": "code",
   "execution_count": 18,
   "id": "18440013",
   "metadata": {},
   "outputs": [],
   "source": [
    "cr.Gender=le.fit_transform(cr.Gender)\n",
    "cr.Married=le.fit_transform(cr.Married)\n",
    "cr.Education=le.fit_transform(cr.Education)\n",
    "cr.Self_Employed=le.fit_transform(cr.Self_Employed)\n",
    "cr.Property_Area =le.fit_transform(cr.Property_Area )\n"
   ]
  },
  {
   "cell_type": "code",
   "execution_count": 19,
   "id": "6d06ce5a",
   "metadata": {},
   "outputs": [],
   "source": [
    "cr.Loan_Status=cr.Loan_Status.replace({\"Y\":1,\"N\":0})"
   ]
  },
  {
   "cell_type": "code",
   "execution_count": 20,
   "id": "fa3770cf",
   "metadata": {},
   "outputs": [],
   "source": [
    "cr=cr.drop(['Loan_ID'],axis=1)"
   ]
  },
  {
   "cell_type": "code",
   "execution_count": 28,
   "id": "e16493ca",
   "metadata": {},
   "outputs": [
    {
     "data": {
      "text/html": [
       "<div>\n",
       "<style scoped>\n",
       "    .dataframe tbody tr th:only-of-type {\n",
       "        vertical-align: middle;\n",
       "    }\n",
       "\n",
       "    .dataframe tbody tr th {\n",
       "        vertical-align: top;\n",
       "    }\n",
       "\n",
       "    .dataframe thead th {\n",
       "        text-align: right;\n",
       "    }\n",
       "</style>\n",
       "<table border=\"1\" class=\"dataframe\">\n",
       "  <thead>\n",
       "    <tr style=\"text-align: right;\">\n",
       "      <th></th>\n",
       "      <th>Gender</th>\n",
       "      <th>Married</th>\n",
       "      <th>Dependents</th>\n",
       "      <th>Education</th>\n",
       "      <th>Self_Employed</th>\n",
       "      <th>ApplicantIncome</th>\n",
       "      <th>CoapplicantIncome</th>\n",
       "      <th>LoanAmount</th>\n",
       "      <th>Loan_Amount_Term</th>\n",
       "      <th>Credit_History</th>\n",
       "      <th>Property_Area</th>\n",
       "      <th>Loan_Status</th>\n",
       "    </tr>\n",
       "  </thead>\n",
       "  <tbody>\n",
       "    <tr>\n",
       "      <th>0</th>\n",
       "      <td>1</td>\n",
       "      <td>0</td>\n",
       "      <td>0</td>\n",
       "      <td>0</td>\n",
       "      <td>0</td>\n",
       "      <td>5849</td>\n",
       "      <td>0.0</td>\n",
       "      <td>142.51153</td>\n",
       "      <td>360.0</td>\n",
       "      <td>1.0</td>\n",
       "      <td>2</td>\n",
       "      <td>1</td>\n",
       "    </tr>\n",
       "    <tr>\n",
       "      <th>1</th>\n",
       "      <td>1</td>\n",
       "      <td>1</td>\n",
       "      <td>1</td>\n",
       "      <td>0</td>\n",
       "      <td>0</td>\n",
       "      <td>4583</td>\n",
       "      <td>1508.0</td>\n",
       "      <td>128.00000</td>\n",
       "      <td>360.0</td>\n",
       "      <td>1.0</td>\n",
       "      <td>0</td>\n",
       "      <td>0</td>\n",
       "    </tr>\n",
       "    <tr>\n",
       "      <th>2</th>\n",
       "      <td>1</td>\n",
       "      <td>1</td>\n",
       "      <td>0</td>\n",
       "      <td>0</td>\n",
       "      <td>1</td>\n",
       "      <td>3000</td>\n",
       "      <td>0.0</td>\n",
       "      <td>66.00000</td>\n",
       "      <td>360.0</td>\n",
       "      <td>1.0</td>\n",
       "      <td>2</td>\n",
       "      <td>1</td>\n",
       "    </tr>\n",
       "    <tr>\n",
       "      <th>3</th>\n",
       "      <td>1</td>\n",
       "      <td>1</td>\n",
       "      <td>0</td>\n",
       "      <td>1</td>\n",
       "      <td>0</td>\n",
       "      <td>2583</td>\n",
       "      <td>2358.0</td>\n",
       "      <td>120.00000</td>\n",
       "      <td>360.0</td>\n",
       "      <td>1.0</td>\n",
       "      <td>2</td>\n",
       "      <td>1</td>\n",
       "    </tr>\n",
       "    <tr>\n",
       "      <th>4</th>\n",
       "      <td>1</td>\n",
       "      <td>0</td>\n",
       "      <td>0</td>\n",
       "      <td>0</td>\n",
       "      <td>0</td>\n",
       "      <td>6000</td>\n",
       "      <td>0.0</td>\n",
       "      <td>141.00000</td>\n",
       "      <td>360.0</td>\n",
       "      <td>1.0</td>\n",
       "      <td>2</td>\n",
       "      <td>1</td>\n",
       "    </tr>\n",
       "  </tbody>\n",
       "</table>\n",
       "</div>"
      ],
      "text/plain": [
       "   Gender  Married  Dependents  Education  Self_Employed  ApplicantIncome  \\\n",
       "0       1        0           0          0              0             5849   \n",
       "1       1        1           1          0              0             4583   \n",
       "2       1        1           0          0              1             3000   \n",
       "3       1        1           0          1              0             2583   \n",
       "4       1        0           0          0              0             6000   \n",
       "\n",
       "   CoapplicantIncome  LoanAmount  Loan_Amount_Term  Credit_History  \\\n",
       "0                0.0   142.51153             360.0             1.0   \n",
       "1             1508.0   128.00000             360.0             1.0   \n",
       "2                0.0    66.00000             360.0             1.0   \n",
       "3             2358.0   120.00000             360.0             1.0   \n",
       "4                0.0   141.00000             360.0             1.0   \n",
       "\n",
       "   Property_Area  Loan_Status  \n",
       "0              2            1  \n",
       "1              0            0  \n",
       "2              2            1  \n",
       "3              2            1  \n",
       "4              2            1  "
      ]
     },
     "execution_count": 28,
     "metadata": {},
     "output_type": "execute_result"
    }
   ],
   "source": [
    "cr.head()"
   ]
  },
  {
   "cell_type": "code",
   "execution_count": 27,
   "id": "09925b10",
   "metadata": {},
   "outputs": [
    {
     "data": {
      "text/plain": [
       "Series([], dtype: int64)"
      ]
     },
     "execution_count": 27,
     "metadata": {},
     "output_type": "execute_result"
    }
   ],
   "source": [
    "cr.isnull().sum()[cr.isnull().sum()>0]"
   ]
  },
  {
   "cell_type": "code",
   "execution_count": 26,
   "id": "c2410eb9",
   "metadata": {},
   "outputs": [
    {
     "name": "stdout",
     "output_type": "stream",
     "text": [
      "<class 'pandas.core.frame.DataFrame'>\n",
      "RangeIndex: 981 entries, 0 to 980\n",
      "Data columns (total 12 columns):\n",
      " #   Column             Non-Null Count  Dtype  \n",
      "---  ------             --------------  -----  \n",
      " 0   Gender             981 non-null    int32  \n",
      " 1   Married            981 non-null    int32  \n",
      " 2   Dependents         981 non-null    int32  \n",
      " 3   Education          981 non-null    int32  \n",
      " 4   Self_Employed      981 non-null    int32  \n",
      " 5   ApplicantIncome    981 non-null    int64  \n",
      " 6   CoapplicantIncome  981 non-null    float64\n",
      " 7   LoanAmount         981 non-null    float64\n",
      " 8   Loan_Amount_Term   981 non-null    float64\n",
      " 9   Credit_History     981 non-null    float64\n",
      " 10  Property_Area      981 non-null    int32  \n",
      " 11  Loan_Status        981 non-null    int64  \n",
      "dtypes: float64(4), int32(6), int64(2)\n",
      "memory usage: 69.1 KB\n"
     ]
    }
   ],
   "source": [
    "cr.info()"
   ]
  },
  {
   "cell_type": "code",
   "execution_count": 25,
   "id": "5e923881",
   "metadata": {},
   "outputs": [],
   "source": [
    "cr.Dependents=cr.Dependents.astype('int32')"
   ]
  },
  {
   "cell_type": "code",
   "execution_count": 29,
   "id": "04d4a67f",
   "metadata": {},
   "outputs": [],
   "source": [
    "from sklearn.model_selection import train_test_split\n",
    "cr_train,cr_test=train_test_split(cr,test_size=.2)"
   ]
  },
  {
   "cell_type": "code",
   "execution_count": 30,
   "id": "4cb681ed",
   "metadata": {},
   "outputs": [],
   "source": [
    "cr_train_x=cr_train.iloc[:,0:-1]\n",
    "cr_train_y=cr_train.iloc[:,-1]"
   ]
  },
  {
   "cell_type": "code",
   "execution_count": 31,
   "id": "2a7a3248",
   "metadata": {},
   "outputs": [],
   "source": [
    "cr_test_x=cr_test.iloc[:,0:-1]\n",
    "cr_test_y=cr_test.iloc[:,-1]"
   ]
  },
  {
   "cell_type": "code",
   "execution_count": null,
   "id": "018b9fb6",
   "metadata": {},
   "outputs": [],
   "source": [
    "#how did we build linear regression \n",
    "\n",
    "\n",
    "#we imported some function from sklearn\n",
    "#we create an object\n",
    "#fit function (build mode)(x,y)\n",
    "#prediction"
   ]
  },
  {
   "cell_type": "code",
   "execution_count": 33,
   "id": "f3d9b398",
   "metadata": {},
   "outputs": [],
   "source": [
    "from sklearn.linear_model import LogisticRegression\n",
    "log_cr=LogisticRegression()"
   ]
  },
  {
   "cell_type": "code",
   "execution_count": 34,
   "id": "14cf1008",
   "metadata": {},
   "outputs": [
    {
     "name": "stderr",
     "output_type": "stream",
     "text": [
      "C:\\Users\\shuarya\\anaconda3\\lib\\site-packages\\sklearn\\linear_model\\_logistic.py:814: ConvergenceWarning: lbfgs failed to converge (status=1):\n",
      "STOP: TOTAL NO. of ITERATIONS REACHED LIMIT.\n",
      "\n",
      "Increase the number of iterations (max_iter) or scale the data as shown in:\n",
      "    https://scikit-learn.org/stable/modules/preprocessing.html\n",
      "Please also refer to the documentation for alternative solver options:\n",
      "    https://scikit-learn.org/stable/modules/linear_model.html#logistic-regression\n",
      "  n_iter_i = _check_optimize_result(\n"
     ]
    },
    {
     "data": {
      "text/plain": [
       "LogisticRegression()"
      ]
     },
     "execution_count": 34,
     "metadata": {},
     "output_type": "execute_result"
    }
   ],
   "source": [
    "log_cr.fit(cr_train_x,cr_train_y) #model has build"
   ]
  },
  {
   "cell_type": "code",
   "execution_count": 36,
   "id": "ca68b4b0",
   "metadata": {
    "scrolled": true
   },
   "outputs": [
    {
     "data": {
      "text/plain": [
       "array([1, 1, 1, 1, 1, 1, 1, 1, 0, 0, 1, 1, 1, 1, 0, 1, 1, 1, 1, 1, 1, 1,\n",
       "       1, 1, 0, 0, 1, 1, 1, 0, 1, 1, 1, 1, 1, 1, 0, 1, 0, 1, 1, 1, 0, 1,\n",
       "       1, 1, 1, 1, 0, 1, 1, 1, 1, 1, 0, 1, 0, 1, 1, 1, 1, 1, 1, 1, 1, 1,\n",
       "       1, 1, 1, 1, 0, 1, 1, 1, 1, 1, 1, 0, 1, 1, 1, 1, 1, 1, 1, 1, 1, 1,\n",
       "       1, 1, 0, 1, 1, 1, 1, 1, 0, 1, 1, 1, 1, 1, 1, 1, 1, 1, 1, 1, 1, 1,\n",
       "       0, 1, 0, 1, 1, 1, 1, 1, 1, 1, 1, 1, 0, 1, 1, 1, 1, 1, 0, 1, 1, 0,\n",
       "       1, 1, 1, 1, 1, 1, 1, 0, 0, 1, 0, 1, 1, 1, 0, 0, 0, 0, 1, 1, 1, 1,\n",
       "       1, 0, 1, 1, 1, 0, 1, 0, 1, 0, 1, 1, 1, 1, 1, 1, 1, 1, 1, 1, 1, 1,\n",
       "       0, 0, 1, 1, 0, 1, 1, 0, 0, 1, 0, 1, 1, 1, 1, 1, 0, 1, 1, 0, 1],\n",
       "      dtype=int64)"
      ]
     },
     "execution_count": 36,
     "metadata": {},
     "output_type": "execute_result"
    }
   ],
   "source": [
    "pred=log_cr.predict(cr_test_x)\n",
    "pred"
   ]
  },
  {
   "cell_type": "code",
   "execution_count": 37,
   "id": "819e1b3e",
   "metadata": {},
   "outputs": [
    {
     "data": {
      "text/plain": [
       "197"
      ]
     },
     "execution_count": 37,
     "metadata": {},
     "output_type": "execute_result"
    }
   ],
   "source": [
    "len(pred)"
   ]
  },
  {
   "cell_type": "code",
   "execution_count": null,
   "id": "0393b4c1",
   "metadata": {},
   "outputs": [],
   "source": []
  },
  {
   "cell_type": "code",
   "execution_count": 38,
   "id": "bf5479eb",
   "metadata": {},
   "outputs": [
    {
     "data": {
      "text/html": [
       "<div>\n",
       "<style scoped>\n",
       "    .dataframe tbody tr th:only-of-type {\n",
       "        vertical-align: middle;\n",
       "    }\n",
       "\n",
       "    .dataframe tbody tr th {\n",
       "        vertical-align: top;\n",
       "    }\n",
       "\n",
       "    .dataframe thead th {\n",
       "        text-align: right;\n",
       "    }\n",
       "</style>\n",
       "<table border=\"1\" class=\"dataframe\">\n",
       "  <thead>\n",
       "    <tr style=\"text-align: right;\">\n",
       "      <th>col_0</th>\n",
       "      <th>0</th>\n",
       "      <th>1</th>\n",
       "    </tr>\n",
       "    <tr>\n",
       "      <th>Loan_Status</th>\n",
       "      <th></th>\n",
       "      <th></th>\n",
       "    </tr>\n",
       "  </thead>\n",
       "  <tbody>\n",
       "    <tr>\n",
       "      <th>0</th>\n",
       "      <td>29</td>\n",
       "      <td>32</td>\n",
       "    </tr>\n",
       "    <tr>\n",
       "      <th>1</th>\n",
       "      <td>11</td>\n",
       "      <td>125</td>\n",
       "    </tr>\n",
       "  </tbody>\n",
       "</table>\n",
       "</div>"
      ],
      "text/plain": [
       "col_0         0    1\n",
       "Loan_Status         \n",
       "0            29   32\n",
       "1            11  125"
      ]
     },
     "execution_count": 38,
     "metadata": {},
     "output_type": "execute_result"
    }
   ],
   "source": [
    "pd.crosstab(cr_test_y,pred) # 1st type to make confusion_matrix"
   ]
  },
  {
   "cell_type": "code",
   "execution_count": 39,
   "id": "a0e4f2d9",
   "metadata": {},
   "outputs": [],
   "source": [
    "from sklearn.metrics import confusion_matrix"
   ]
  },
  {
   "cell_type": "code",
   "execution_count": 41,
   "id": "a409d693",
   "metadata": {},
   "outputs": [
    {
     "data": {
      "text/plain": [
       "array([[ 29,  32],\n",
       "       [ 11, 125]], dtype=int64)"
      ]
     },
     "execution_count": 41,
     "metadata": {},
     "output_type": "execute_result"
    }
   ],
   "source": [
    "tab_cr=confusion_matrix(cr_test_y,pred) # 2nd type to make confusion_matrix\n",
    "tab_cr # from top it is predicted"
   ]
  },
  {
   "cell_type": "code",
   "execution_count": 42,
   "id": "aea877da",
   "metadata": {},
   "outputs": [
    {
     "data": {
      "text/plain": [
       "154"
      ]
     },
     "execution_count": 42,
     "metadata": {},
     "output_type": "execute_result"
    }
   ],
   "source": [
    "tab_cr.diagonal().sum() #selected your diagonal matrix"
   ]
  },
  {
   "cell_type": "code",
   "execution_count": 43,
   "id": "286da2ce",
   "metadata": {},
   "outputs": [
    {
     "data": {
      "text/plain": [
       "197"
      ]
     },
     "execution_count": 43,
     "metadata": {},
     "output_type": "execute_result"
    }
   ],
   "source": [
    "tab_cr.sum() #calculated grand matrix "
   ]
  },
  {
   "cell_type": "code",
   "execution_count": 44,
   "id": "a2ed65df",
   "metadata": {},
   "outputs": [
    {
     "data": {
      "text/plain": [
       "78.1725888324873"
      ]
     },
     "execution_count": 44,
     "metadata": {},
     "output_type": "execute_result"
    }
   ],
   "source": [
    "tab_cr.diagonal().sum()*100/tab_cr.sum() #accuracy"
   ]
  },
  {
   "cell_type": "code",
   "execution_count": 45,
   "id": "f9e240a1",
   "metadata": {},
   "outputs": [
    {
     "data": {
      "text/plain": [
       "78.1725888324873"
      ]
     },
     "execution_count": 45,
     "metadata": {},
     "output_type": "execute_result"
    }
   ],
   "source": [
    "from sklearn.metrics import accuracy_score\n",
    "accuracy_score(cr_test_y,pred)*100 #accuracy"
   ]
  },
  {
   "cell_type": "code",
   "execution_count": 46,
   "id": "58bcea84",
   "metadata": {},
   "outputs": [
    {
     "data": {
      "text/plain": [
       "0.7961783439490446"
      ]
     },
     "execution_count": 46,
     "metadata": {},
     "output_type": "execute_result"
    }
   ],
   "source": [
    "# precision\n",
    "#tp/tp+fp\n",
    "125/(125+32)"
   ]
  },
  {
   "cell_type": "code",
   "execution_count": 47,
   "id": "e2e03352",
   "metadata": {},
   "outputs": [
    {
     "data": {
      "text/plain": [
       "0.7961783439490446"
      ]
     },
     "execution_count": 47,
     "metadata": {},
     "output_type": "execute_result"
    }
   ],
   "source": [
    "from sklearn.metrics import precision_score\n",
    "precision_score(cr_test_y,pred)"
   ]
  },
  {
   "cell_type": "code",
   "execution_count": 48,
   "id": "e3129dc3",
   "metadata": {},
   "outputs": [
    {
     "data": {
      "text/plain": [
       "0.9191176470588235"
      ]
     },
     "execution_count": 48,
     "metadata": {},
     "output_type": "execute_result"
    }
   ],
   "source": [
    "#recall/tpr\n",
    "#fp/fp+fn\n",
    "125/(125+11)"
   ]
  },
  {
   "cell_type": "code",
   "execution_count": 49,
   "id": "f69905e7",
   "metadata": {},
   "outputs": [
    {
     "data": {
      "text/plain": [
       "0.9191176470588235"
      ]
     },
     "execution_count": 49,
     "metadata": {},
     "output_type": "execute_result"
    }
   ],
   "source": [
    "from sklearn.metrics import recall_score\n",
    "recall_score(cr_test_y,pred)"
   ]
  },
  {
   "cell_type": "code",
   "execution_count": null,
   "id": "c6b9549d",
   "metadata": {},
   "outputs": [],
   "source": []
  },
  {
   "cell_type": "code",
   "execution_count": 50,
   "id": "4a487deb",
   "metadata": {},
   "outputs": [
    {
     "data": {
      "text/plain": [
       "0.5245901639344263"
      ]
     },
     "execution_count": 50,
     "metadata": {},
     "output_type": "execute_result"
    }
   ],
   "source": [
    "#fpr\n",
    "#fp/fp+tn\n",
    "32/(32+29)"
   ]
  },
  {
   "cell_type": "code",
   "execution_count": 53,
   "id": "d1200731",
   "metadata": {},
   "outputs": [
    {
     "data": {
      "text/plain": [
       "0.8532423208191127"
      ]
     },
     "execution_count": 53,
     "metadata": {},
     "output_type": "execute_result"
    }
   ],
   "source": [
    "#F1 Score\n",
    "#2*precision*Recall/precision+Recall\n",
    "\n",
    "2*0.7961783439490446*0.9191176470588235/(0.7961783439490446+0.9191176470588235)"
   ]
  },
  {
   "cell_type": "code",
   "execution_count": null,
   "id": "4a76330e",
   "metadata": {},
   "outputs": [],
   "source": []
  },
  {
   "cell_type": "code",
   "execution_count": 55,
   "id": "ab17e43f",
   "metadata": {},
   "outputs": [
    {
     "data": {
      "text/plain": [
       "0.9191176470588235"
      ]
     },
     "execution_count": 55,
     "metadata": {},
     "output_type": "execute_result"
    }
   ],
   "source": [
    "from sklearn.metrics import recall_score\n",
    "recall_score(cr_test_y,pred)"
   ]
  },
  {
   "cell_type": "code",
   "execution_count": null,
   "id": "da735fc5",
   "metadata": {},
   "outputs": [],
   "source": [
    "#auroce and build the plot for auroc"
   ]
  },
  {
   "cell_type": "code",
   "execution_count": 56,
   "id": "c7988e4c",
   "metadata": {},
   "outputs": [],
   "source": [
    "from sklearn.metrics import roc_auc_score\n",
    "from sklearn.metrics import roc_curve"
   ]
  },
  {
   "cell_type": "code",
   "execution_count": 58,
   "id": "51493643",
   "metadata": {},
   "outputs": [
    {
     "data": {
      "text/plain": [
       "array([1, 1, 1, 1, 1, 1, 1, 1, 0, 0, 1, 1, 1, 1, 0, 1, 1, 1, 1, 1, 1, 1,\n",
       "       1, 1, 0, 0, 1, 1, 1, 0, 1, 1, 1, 1, 1, 1, 0, 1, 0, 1, 1, 1, 0, 1,\n",
       "       1, 1, 1, 1, 0, 1, 1, 1, 1, 1, 0, 1, 0, 1, 1, 1, 1, 1, 1, 1, 1, 1,\n",
       "       1, 1, 1, 1, 0, 1, 1, 1, 1, 1, 1, 0, 1, 1, 1, 1, 1, 1, 1, 1, 1, 1,\n",
       "       1, 1, 0, 1, 1, 1, 1, 1, 0, 1, 1, 1, 1, 1, 1, 1, 1, 1, 1, 1, 1, 1,\n",
       "       0, 1, 0, 1, 1, 1, 1, 1, 1, 1, 1, 1, 0, 1, 1, 1, 1, 1, 0, 1, 1, 0,\n",
       "       1, 1, 1, 1, 1, 1, 1, 0, 0, 1, 0, 1, 1, 1, 0, 0, 0, 0, 1, 1, 1, 1,\n",
       "       1, 0, 1, 1, 1, 0, 1, 0, 1, 0, 1, 1, 1, 1, 1, 1, 1, 1, 1, 1, 1, 1,\n",
       "       0, 0, 1, 1, 0, 1, 1, 0, 0, 1, 0, 1, 1, 1, 1, 1, 0, 1, 1, 0, 1],\n",
       "      dtype=int64)"
      ]
     },
     "execution_count": 58,
     "metadata": {},
     "output_type": "execute_result"
    }
   ],
   "source": [
    "pred=log_cr.predict(cr_test_x)\n",
    "pred"
   ]
  },
  {
   "cell_type": "code",
   "execution_count": 59,
   "id": "720d9254",
   "metadata": {
    "scrolled": false
   },
   "outputs": [
    {
     "data": {
      "text/plain": [
       "array([[0.19920568, 0.80079432],\n",
       "       [0.13777794, 0.86222206],\n",
       "       [0.10917044, 0.89082956],\n",
       "       [0.20078392, 0.79921608],\n",
       "       [0.29979201, 0.70020799],\n",
       "       [0.21433856, 0.78566144],\n",
       "       [0.10997046, 0.89002954],\n",
       "       [0.18311346, 0.81688654],\n",
       "       [0.64299132, 0.35700868],\n",
       "       [0.70990306, 0.29009694],\n",
       "       [0.12719666, 0.87280334],\n",
       "       [0.0944453 , 0.9055547 ],\n",
       "       [0.14663452, 0.85336548],\n",
       "       [0.17752199, 0.82247801],\n",
       "       [0.60586657, 0.39413343],\n",
       "       [0.19692278, 0.80307722],\n",
       "       [0.1166252 , 0.8833748 ],\n",
       "       [0.14146082, 0.85853918],\n",
       "       [0.41995071, 0.58004929],\n",
       "       [0.205254  , 0.794746  ],\n",
       "       [0.09076276, 0.90923724],\n",
       "       [0.13679825, 0.86320175],\n",
       "       [0.03914555, 0.96085445],\n",
       "       [0.28978025, 0.71021975],\n",
       "       [0.70131232, 0.29868768],\n",
       "       [0.60136226, 0.39863774],\n",
       "       [0.0866403 , 0.9133597 ],\n",
       "       [0.17982589, 0.82017411],\n",
       "       [0.08176547, 0.91823453],\n",
       "       [0.69314212, 0.30685788],\n",
       "       [0.20419152, 0.79580848],\n",
       "       [0.12649485, 0.87350515],\n",
       "       [0.0939209 , 0.9060791 ],\n",
       "       [0.14563564, 0.85436436],\n",
       "       [0.1605504 , 0.8394496 ],\n",
       "       [0.07647903, 0.92352097],\n",
       "       [0.54984912, 0.45015088],\n",
       "       [0.16710555, 0.83289445],\n",
       "       [0.58691864, 0.41308136],\n",
       "       [0.13397606, 0.86602394],\n",
       "       [0.14152953, 0.85847047],\n",
       "       [0.17176082, 0.82823918],\n",
       "       [0.52447836, 0.47552164],\n",
       "       [0.26009667, 0.73990333],\n",
       "       [0.11420778, 0.88579222],\n",
       "       [0.21787206, 0.78212794],\n",
       "       [0.13286975, 0.86713025],\n",
       "       [0.14130781, 0.85869219],\n",
       "       [0.68662305, 0.31337695],\n",
       "       [0.10910456, 0.89089544],\n",
       "       [0.28586005, 0.71413995],\n",
       "       [0.11314273, 0.88685727],\n",
       "       [0.07917045, 0.92082955],\n",
       "       [0.11115618, 0.88884382],\n",
       "       [0.68305409, 0.31694591],\n",
       "       [0.14487786, 0.85512214],\n",
       "       [0.62913936, 0.37086064],\n",
       "       [0.14961923, 0.85038077],\n",
       "       [0.19742748, 0.80257252],\n",
       "       [0.09630524, 0.90369476],\n",
       "       [0.14167704, 0.85832296],\n",
       "       [0.11477565, 0.88522435],\n",
       "       [0.16060865, 0.83939135],\n",
       "       [0.16150292, 0.83849708],\n",
       "       [0.05538663, 0.94461337],\n",
       "       [0.10841554, 0.89158446],\n",
       "       [0.09296853, 0.90703147],\n",
       "       [0.09609519, 0.90390481],\n",
       "       [0.15749623, 0.84250377],\n",
       "       [0.13444889, 0.86555111],\n",
       "       [0.81290034, 0.18709966],\n",
       "       [0.24377712, 0.75622288],\n",
       "       [0.23849512, 0.76150488],\n",
       "       [0.18288865, 0.81711135],\n",
       "       [0.47591551, 0.52408449],\n",
       "       [0.14295058, 0.85704942],\n",
       "       [0.30824121, 0.69175879],\n",
       "       [0.74713741, 0.25286259],\n",
       "       [0.09403263, 0.90596737],\n",
       "       [0.1656565 , 0.8343435 ],\n",
       "       [0.12515868, 0.87484132],\n",
       "       [0.09853561, 0.90146439],\n",
       "       [0.13073987, 0.86926013],\n",
       "       [0.31471261, 0.68528739],\n",
       "       [0.31909803, 0.68090197],\n",
       "       [0.15908233, 0.84091767],\n",
       "       [0.16097928, 0.83902072],\n",
       "       [0.45592662, 0.54407338],\n",
       "       [0.10008366, 0.89991634],\n",
       "       [0.10273061, 0.89726939],\n",
       "       [0.66170552, 0.33829448],\n",
       "       [0.086466  , 0.913534  ],\n",
       "       [0.17680538, 0.82319462],\n",
       "       [0.11155283, 0.88844717],\n",
       "       [0.12778432, 0.87221568],\n",
       "       [0.2833988 , 0.7166012 ],\n",
       "       [0.77294674, 0.22705326],\n",
       "       [0.08491896, 0.91508104],\n",
       "       [0.11486503, 0.88513497],\n",
       "       [0.07398102, 0.92601898],\n",
       "       [0.15686922, 0.84313078],\n",
       "       [0.07475769, 0.92524231],\n",
       "       [0.22854993, 0.77145007],\n",
       "       [0.2330256 , 0.7669744 ],\n",
       "       [0.06575436, 0.93424564],\n",
       "       [0.16100455, 0.83899545],\n",
       "       [0.15225143, 0.84774857],\n",
       "       [0.09738642, 0.90261358],\n",
       "       [0.39252652, 0.60747348],\n",
       "       [0.22900835, 0.77099165],\n",
       "       [0.71959617, 0.28040383],\n",
       "       [0.1156163 , 0.8843837 ],\n",
       "       [0.54767385, 0.45232615],\n",
       "       [0.11968183, 0.88031817],\n",
       "       [0.12906209, 0.87093791],\n",
       "       [0.07825423, 0.92174577],\n",
       "       [0.14054679, 0.85945321],\n",
       "       [0.1315574 , 0.8684426 ],\n",
       "       [0.15666078, 0.84333922],\n",
       "       [0.21865754, 0.78134246],\n",
       "       [0.17670979, 0.82329021],\n",
       "       [0.0569577 , 0.9430423 ],\n",
       "       [0.680299  , 0.319701  ],\n",
       "       [0.16995342, 0.83004658],\n",
       "       [0.21481756, 0.78518244],\n",
       "       [0.15667538, 0.84332462],\n",
       "       [0.17794096, 0.82205904],\n",
       "       [0.1173785 , 0.8826215 ],\n",
       "       [0.63939768, 0.36060232],\n",
       "       [0.16307529, 0.83692471],\n",
       "       [0.17510155, 0.82489845],\n",
       "       [0.68198476, 0.31801524],\n",
       "       [0.44816549, 0.55183451],\n",
       "       [0.44200931, 0.55799069],\n",
       "       [0.13687727, 0.86312273],\n",
       "       [0.1378513 , 0.8621487 ],\n",
       "       [0.31509939, 0.68490061],\n",
       "       [0.13591546, 0.86408454],\n",
       "       [0.30021668, 0.69978332],\n",
       "       [0.83378129, 0.16621871],\n",
       "       [0.73085682, 0.26914318],\n",
       "       [0.2425014 , 0.7574986 ],\n",
       "       [0.58563759, 0.41436241],\n",
       "       [0.27077944, 0.72922056],\n",
       "       [0.45143134, 0.54856866],\n",
       "       [0.11846791, 0.88153209],\n",
       "       [0.51663065, 0.48336935],\n",
       "       [0.69617218, 0.30382782],\n",
       "       [0.7071734 , 0.2928266 ],\n",
       "       [0.72851194, 0.27148806],\n",
       "       [0.17298367, 0.82701633],\n",
       "       [0.12120919, 0.87879081],\n",
       "       [0.23253575, 0.76746425],\n",
       "       [0.11542443, 0.88457557],\n",
       "       [0.09528763, 0.90471237],\n",
       "       [0.55472106, 0.44527894],\n",
       "       [0.12546212, 0.87453788],\n",
       "       [0.10762094, 0.89237906],\n",
       "       [0.1517386 , 0.8482614 ],\n",
       "       [0.63801982, 0.36198018],\n",
       "       [0.41665095, 0.58334905],\n",
       "       [0.59309739, 0.40690261],\n",
       "       [0.1172421 , 0.8827579 ],\n",
       "       [0.66692004, 0.33307996],\n",
       "       [0.04456826, 0.95543174],\n",
       "       [0.11219601, 0.88780399],\n",
       "       [0.12293651, 0.87706349],\n",
       "       [0.16991465, 0.83008535],\n",
       "       [0.14172822, 0.85827178],\n",
       "       [0.16945515, 0.83054485],\n",
       "       [0.12212161, 0.87787839],\n",
       "       [0.18257023, 0.81742977],\n",
       "       [0.19773938, 0.80226062],\n",
       "       [0.11511202, 0.88488798],\n",
       "       [0.09735967, 0.90264033],\n",
       "       [0.17002733, 0.82997267],\n",
       "       [0.60013693, 0.39986307],\n",
       "       [0.54096944, 0.45903056],\n",
       "       [0.21106935, 0.78893065],\n",
       "       [0.23747239, 0.76252761],\n",
       "       [0.72298718, 0.27701282],\n",
       "       [0.06899202, 0.93100798],\n",
       "       [0.1526437 , 0.8473563 ],\n",
       "       [0.54337174, 0.45662826],\n",
       "       [0.70745261, 0.29254739],\n",
       "       [0.11499976, 0.88500024],\n",
       "       [0.57497181, 0.42502819],\n",
       "       [0.07842961, 0.92157039],\n",
       "       [0.23193607, 0.76806393],\n",
       "       [0.10200194, 0.89799806],\n",
       "       [0.12202675, 0.87797325],\n",
       "       [0.18895615, 0.81104385],\n",
       "       [0.65028633, 0.34971367],\n",
       "       [0.24916119, 0.75083881],\n",
       "       [0.13840279, 0.86159721],\n",
       "       [0.79929086, 0.20070914],\n",
       "       [0.1161385 , 0.8838615 ]])"
      ]
     },
     "execution_count": 59,
     "metadata": {},
     "output_type": "execute_result"
    }
   ],
   "source": [
    "pred_prob=log_cr.predict_proba(cr_test_x)\n",
    "pred_prob #Lhs is for 0 prob #rhs is for 1 prob\n",
    "# it is giving prob in zero and 1 for each record"
   ]
  },
  {
   "cell_type": "code",
   "execution_count": 62,
   "id": "34e1cb1b",
   "metadata": {},
   "outputs": [
    {
     "data": {
      "text/plain": [
       "0.6972637415621986"
      ]
     },
     "execution_count": 62,
     "metadata": {},
     "output_type": "execute_result"
    }
   ],
   "source": [
    "roc_auc_score(cr_test_y,pred)\n",
    "\n",
    "#this is the area under the curve"
   ]
  },
  {
   "cell_type": "code",
   "execution_count": 63,
   "id": "ff5c86c6",
   "metadata": {},
   "outputs": [
    {
     "data": {
      "text/plain": [
       "array([[0.19920568, 0.80079432],\n",
       "       [0.13777794, 0.86222206],\n",
       "       [0.10917044, 0.89082956],\n",
       "       [0.20078392, 0.79921608],\n",
       "       [0.29979201, 0.70020799],\n",
       "       [0.21433856, 0.78566144],\n",
       "       [0.10997046, 0.89002954],\n",
       "       [0.18311346, 0.81688654],\n",
       "       [0.64299132, 0.35700868],\n",
       "       [0.70990306, 0.29009694],\n",
       "       [0.12719666, 0.87280334],\n",
       "       [0.0944453 , 0.9055547 ],\n",
       "       [0.14663452, 0.85336548],\n",
       "       [0.17752199, 0.82247801],\n",
       "       [0.60586657, 0.39413343],\n",
       "       [0.19692278, 0.80307722],\n",
       "       [0.1166252 , 0.8833748 ],\n",
       "       [0.14146082, 0.85853918],\n",
       "       [0.41995071, 0.58004929],\n",
       "       [0.205254  , 0.794746  ],\n",
       "       [0.09076276, 0.90923724],\n",
       "       [0.13679825, 0.86320175],\n",
       "       [0.03914555, 0.96085445],\n",
       "       [0.28978025, 0.71021975],\n",
       "       [0.70131232, 0.29868768],\n",
       "       [0.60136226, 0.39863774],\n",
       "       [0.0866403 , 0.9133597 ],\n",
       "       [0.17982589, 0.82017411],\n",
       "       [0.08176547, 0.91823453],\n",
       "       [0.69314212, 0.30685788],\n",
       "       [0.20419152, 0.79580848],\n",
       "       [0.12649485, 0.87350515],\n",
       "       [0.0939209 , 0.9060791 ],\n",
       "       [0.14563564, 0.85436436],\n",
       "       [0.1605504 , 0.8394496 ],\n",
       "       [0.07647903, 0.92352097],\n",
       "       [0.54984912, 0.45015088],\n",
       "       [0.16710555, 0.83289445],\n",
       "       [0.58691864, 0.41308136],\n",
       "       [0.13397606, 0.86602394],\n",
       "       [0.14152953, 0.85847047],\n",
       "       [0.17176082, 0.82823918],\n",
       "       [0.52447836, 0.47552164],\n",
       "       [0.26009667, 0.73990333],\n",
       "       [0.11420778, 0.88579222],\n",
       "       [0.21787206, 0.78212794],\n",
       "       [0.13286975, 0.86713025],\n",
       "       [0.14130781, 0.85869219],\n",
       "       [0.68662305, 0.31337695],\n",
       "       [0.10910456, 0.89089544],\n",
       "       [0.28586005, 0.71413995],\n",
       "       [0.11314273, 0.88685727],\n",
       "       [0.07917045, 0.92082955],\n",
       "       [0.11115618, 0.88884382],\n",
       "       [0.68305409, 0.31694591],\n",
       "       [0.14487786, 0.85512214],\n",
       "       [0.62913936, 0.37086064],\n",
       "       [0.14961923, 0.85038077],\n",
       "       [0.19742748, 0.80257252],\n",
       "       [0.09630524, 0.90369476],\n",
       "       [0.14167704, 0.85832296],\n",
       "       [0.11477565, 0.88522435],\n",
       "       [0.16060865, 0.83939135],\n",
       "       [0.16150292, 0.83849708],\n",
       "       [0.05538663, 0.94461337],\n",
       "       [0.10841554, 0.89158446],\n",
       "       [0.09296853, 0.90703147],\n",
       "       [0.09609519, 0.90390481],\n",
       "       [0.15749623, 0.84250377],\n",
       "       [0.13444889, 0.86555111],\n",
       "       [0.81290034, 0.18709966],\n",
       "       [0.24377712, 0.75622288],\n",
       "       [0.23849512, 0.76150488],\n",
       "       [0.18288865, 0.81711135],\n",
       "       [0.47591551, 0.52408449],\n",
       "       [0.14295058, 0.85704942],\n",
       "       [0.30824121, 0.69175879],\n",
       "       [0.74713741, 0.25286259],\n",
       "       [0.09403263, 0.90596737],\n",
       "       [0.1656565 , 0.8343435 ],\n",
       "       [0.12515868, 0.87484132],\n",
       "       [0.09853561, 0.90146439],\n",
       "       [0.13073987, 0.86926013],\n",
       "       [0.31471261, 0.68528739],\n",
       "       [0.31909803, 0.68090197],\n",
       "       [0.15908233, 0.84091767],\n",
       "       [0.16097928, 0.83902072],\n",
       "       [0.45592662, 0.54407338],\n",
       "       [0.10008366, 0.89991634],\n",
       "       [0.10273061, 0.89726939],\n",
       "       [0.66170552, 0.33829448],\n",
       "       [0.086466  , 0.913534  ],\n",
       "       [0.17680538, 0.82319462],\n",
       "       [0.11155283, 0.88844717],\n",
       "       [0.12778432, 0.87221568],\n",
       "       [0.2833988 , 0.7166012 ],\n",
       "       [0.77294674, 0.22705326],\n",
       "       [0.08491896, 0.91508104],\n",
       "       [0.11486503, 0.88513497],\n",
       "       [0.07398102, 0.92601898],\n",
       "       [0.15686922, 0.84313078],\n",
       "       [0.07475769, 0.92524231],\n",
       "       [0.22854993, 0.77145007],\n",
       "       [0.2330256 , 0.7669744 ],\n",
       "       [0.06575436, 0.93424564],\n",
       "       [0.16100455, 0.83899545],\n",
       "       [0.15225143, 0.84774857],\n",
       "       [0.09738642, 0.90261358],\n",
       "       [0.39252652, 0.60747348],\n",
       "       [0.22900835, 0.77099165],\n",
       "       [0.71959617, 0.28040383],\n",
       "       [0.1156163 , 0.8843837 ],\n",
       "       [0.54767385, 0.45232615],\n",
       "       [0.11968183, 0.88031817],\n",
       "       [0.12906209, 0.87093791],\n",
       "       [0.07825423, 0.92174577],\n",
       "       [0.14054679, 0.85945321],\n",
       "       [0.1315574 , 0.8684426 ],\n",
       "       [0.15666078, 0.84333922],\n",
       "       [0.21865754, 0.78134246],\n",
       "       [0.17670979, 0.82329021],\n",
       "       [0.0569577 , 0.9430423 ],\n",
       "       [0.680299  , 0.319701  ],\n",
       "       [0.16995342, 0.83004658],\n",
       "       [0.21481756, 0.78518244],\n",
       "       [0.15667538, 0.84332462],\n",
       "       [0.17794096, 0.82205904],\n",
       "       [0.1173785 , 0.8826215 ],\n",
       "       [0.63939768, 0.36060232],\n",
       "       [0.16307529, 0.83692471],\n",
       "       [0.17510155, 0.82489845],\n",
       "       [0.68198476, 0.31801524],\n",
       "       [0.44816549, 0.55183451],\n",
       "       [0.44200931, 0.55799069],\n",
       "       [0.13687727, 0.86312273],\n",
       "       [0.1378513 , 0.8621487 ],\n",
       "       [0.31509939, 0.68490061],\n",
       "       [0.13591546, 0.86408454],\n",
       "       [0.30021668, 0.69978332],\n",
       "       [0.83378129, 0.16621871],\n",
       "       [0.73085682, 0.26914318],\n",
       "       [0.2425014 , 0.7574986 ],\n",
       "       [0.58563759, 0.41436241],\n",
       "       [0.27077944, 0.72922056],\n",
       "       [0.45143134, 0.54856866],\n",
       "       [0.11846791, 0.88153209],\n",
       "       [0.51663065, 0.48336935],\n",
       "       [0.69617218, 0.30382782],\n",
       "       [0.7071734 , 0.2928266 ],\n",
       "       [0.72851194, 0.27148806],\n",
       "       [0.17298367, 0.82701633],\n",
       "       [0.12120919, 0.87879081],\n",
       "       [0.23253575, 0.76746425],\n",
       "       [0.11542443, 0.88457557],\n",
       "       [0.09528763, 0.90471237],\n",
       "       [0.55472106, 0.44527894],\n",
       "       [0.12546212, 0.87453788],\n",
       "       [0.10762094, 0.89237906],\n",
       "       [0.1517386 , 0.8482614 ],\n",
       "       [0.63801982, 0.36198018],\n",
       "       [0.41665095, 0.58334905],\n",
       "       [0.59309739, 0.40690261],\n",
       "       [0.1172421 , 0.8827579 ],\n",
       "       [0.66692004, 0.33307996],\n",
       "       [0.04456826, 0.95543174],\n",
       "       [0.11219601, 0.88780399],\n",
       "       [0.12293651, 0.87706349],\n",
       "       [0.16991465, 0.83008535],\n",
       "       [0.14172822, 0.85827178],\n",
       "       [0.16945515, 0.83054485],\n",
       "       [0.12212161, 0.87787839],\n",
       "       [0.18257023, 0.81742977],\n",
       "       [0.19773938, 0.80226062],\n",
       "       [0.11511202, 0.88488798],\n",
       "       [0.09735967, 0.90264033],\n",
       "       [0.17002733, 0.82997267],\n",
       "       [0.60013693, 0.39986307],\n",
       "       [0.54096944, 0.45903056],\n",
       "       [0.21106935, 0.78893065],\n",
       "       [0.23747239, 0.76252761],\n",
       "       [0.72298718, 0.27701282],\n",
       "       [0.06899202, 0.93100798],\n",
       "       [0.1526437 , 0.8473563 ],\n",
       "       [0.54337174, 0.45662826],\n",
       "       [0.70745261, 0.29254739],\n",
       "       [0.11499976, 0.88500024],\n",
       "       [0.57497181, 0.42502819],\n",
       "       [0.07842961, 0.92157039],\n",
       "       [0.23193607, 0.76806393],\n",
       "       [0.10200194, 0.89799806],\n",
       "       [0.12202675, 0.87797325],\n",
       "       [0.18895615, 0.81104385],\n",
       "       [0.65028633, 0.34971367],\n",
       "       [0.24916119, 0.75083881],\n",
       "       [0.13840279, 0.86159721],\n",
       "       [0.79929086, 0.20070914],\n",
       "       [0.1161385 , 0.8838615 ]])"
      ]
     },
     "execution_count": 63,
     "metadata": {},
     "output_type": "execute_result"
    }
   ],
   "source": [
    "pred_prob"
   ]
  },
  {
   "cell_type": "code",
   "execution_count": 64,
   "id": "66f73c0c",
   "metadata": {},
   "outputs": [
    {
     "data": {
      "text/plain": [
       "array([0.80079432, 0.86222206, 0.89082956, 0.79921608, 0.70020799,\n",
       "       0.78566144, 0.89002954, 0.81688654, 0.35700868, 0.29009694,\n",
       "       0.87280334, 0.9055547 , 0.85336548, 0.82247801, 0.39413343,\n",
       "       0.80307722, 0.8833748 , 0.85853918, 0.58004929, 0.794746  ,\n",
       "       0.90923724, 0.86320175, 0.96085445, 0.71021975, 0.29868768,\n",
       "       0.39863774, 0.9133597 , 0.82017411, 0.91823453, 0.30685788,\n",
       "       0.79580848, 0.87350515, 0.9060791 , 0.85436436, 0.8394496 ,\n",
       "       0.92352097, 0.45015088, 0.83289445, 0.41308136, 0.86602394,\n",
       "       0.85847047, 0.82823918, 0.47552164, 0.73990333, 0.88579222,\n",
       "       0.78212794, 0.86713025, 0.85869219, 0.31337695, 0.89089544,\n",
       "       0.71413995, 0.88685727, 0.92082955, 0.88884382, 0.31694591,\n",
       "       0.85512214, 0.37086064, 0.85038077, 0.80257252, 0.90369476,\n",
       "       0.85832296, 0.88522435, 0.83939135, 0.83849708, 0.94461337,\n",
       "       0.89158446, 0.90703147, 0.90390481, 0.84250377, 0.86555111,\n",
       "       0.18709966, 0.75622288, 0.76150488, 0.81711135, 0.52408449,\n",
       "       0.85704942, 0.69175879, 0.25286259, 0.90596737, 0.8343435 ,\n",
       "       0.87484132, 0.90146439, 0.86926013, 0.68528739, 0.68090197,\n",
       "       0.84091767, 0.83902072, 0.54407338, 0.89991634, 0.89726939,\n",
       "       0.33829448, 0.913534  , 0.82319462, 0.88844717, 0.87221568,\n",
       "       0.7166012 , 0.22705326, 0.91508104, 0.88513497, 0.92601898,\n",
       "       0.84313078, 0.92524231, 0.77145007, 0.7669744 , 0.93424564,\n",
       "       0.83899545, 0.84774857, 0.90261358, 0.60747348, 0.77099165,\n",
       "       0.28040383, 0.8843837 , 0.45232615, 0.88031817, 0.87093791,\n",
       "       0.92174577, 0.85945321, 0.8684426 , 0.84333922, 0.78134246,\n",
       "       0.82329021, 0.9430423 , 0.319701  , 0.83004658, 0.78518244,\n",
       "       0.84332462, 0.82205904, 0.8826215 , 0.36060232, 0.83692471,\n",
       "       0.82489845, 0.31801524, 0.55183451, 0.55799069, 0.86312273,\n",
       "       0.8621487 , 0.68490061, 0.86408454, 0.69978332, 0.16621871,\n",
       "       0.26914318, 0.7574986 , 0.41436241, 0.72922056, 0.54856866,\n",
       "       0.88153209, 0.48336935, 0.30382782, 0.2928266 , 0.27148806,\n",
       "       0.82701633, 0.87879081, 0.76746425, 0.88457557, 0.90471237,\n",
       "       0.44527894, 0.87453788, 0.89237906, 0.8482614 , 0.36198018,\n",
       "       0.58334905, 0.40690261, 0.8827579 , 0.33307996, 0.95543174,\n",
       "       0.88780399, 0.87706349, 0.83008535, 0.85827178, 0.83054485,\n",
       "       0.87787839, 0.81742977, 0.80226062, 0.88488798, 0.90264033,\n",
       "       0.82997267, 0.39986307, 0.45903056, 0.78893065, 0.76252761,\n",
       "       0.27701282, 0.93100798, 0.8473563 , 0.45662826, 0.29254739,\n",
       "       0.88500024, 0.42502819, 0.92157039, 0.76806393, 0.89799806,\n",
       "       0.87797325, 0.81104385, 0.34971367, 0.75083881, 0.86159721,\n",
       "       0.20070914, 0.8838615 ])"
      ]
     },
     "execution_count": 64,
     "metadata": {},
     "output_type": "execute_result"
    }
   ],
   "source": [
    "pred_prob[:,1] # explanation purpose i dont undrstand\n",
    "#selects the prob for class 1"
   ]
  },
  {
   "cell_type": "code",
   "execution_count": 67,
   "id": "bbcf0e77",
   "metadata": {},
   "outputs": [],
   "source": [
    "fpr,tpr,ther=roc_curve(cr_test_y,pred_prob[:,1])"
   ]
  },
  {
   "cell_type": "code",
   "execution_count": 73,
   "id": "458cde41",
   "metadata": {},
   "outputs": [
    {
     "data": {
      "text/plain": [
       "Text(0.5, 0.5, 'AUROC is .6972')"
      ]
     },
     "execution_count": 73,
     "metadata": {},
     "output_type": "execute_result"
    },
    {
     "data": {
      "image/png": "[encoded data removed]",
      "text/plain": [
       "<Figure size 432x288 with 1 Axes>"
      ]
     },
     "metadata": {
      "needs_background": "light"
     },
     "output_type": "display_data"
    }
   ],
   "source": [
    "import matplotlib.pyplot as plt\n",
    "plt.plot(fpr,tpr,color=\"r\")\n",
    "plt.grid(color=\"g\")\n",
    "plt.title('AUROC on Credit Risk Data')\n",
    "plt.xlabel('FPR')\n",
    "plt.ylabel('Tpr')\n",
    "plt.text(x=.5,y=.5,s='AUROC is .6972')"
   ]
  },
  {
   "cell_type": "code",
   "execution_count": null,
   "id": "1b79574e",
   "metadata": {},
   "outputs": [],
   "source": [
    "#practice on churn\n",
    "#titanic"
   ]
  },
  {
   "cell_type": "code",
   "execution_count": null,
   "id": "da033099",
   "metadata": {},
   "outputs": [],
   "source": []
  },
  {
   "cell_type": "code",
   "execution_count": null,
   "id": "3e326593",
   "metadata": {},
   "outputs": [],
   "source": []
  },
  {
   "cell_type": "code",
   "execution_count": null,
   "id": "166851b6",
   "metadata": {},
   "outputs": [],
   "source": []
  },
  {
   "cell_type": "code",
   "execution_count": null,
   "id": "96e2b55e",
   "metadata": {},
   "outputs": [],
   "source": []
  },
  {
   "cell_type": "code",
   "execution_count": null,
   "id": "e7a026af",
   "metadata": {},
   "outputs": [],
   "source": []
  },
  {
   "cell_type": "code",
   "execution_count": null,
   "id": "2a4281e5",
   "metadata": {},
   "outputs": [],
   "source": []
  },
  {
   "cell_type": "code",
   "execution_count": null,
   "id": "7ef91273",
   "metadata": {},
   "outputs": [],
   "source": []
  },
  {
   "cell_type": "code",
   "execution_count": null,
   "id": "6af5305f",
   "metadata": {},
   "outputs": [],
   "source": []
  },
  {
   "cell_type": "code",
   "execution_count": null,
   "id": "b05144bb",
   "metadata": {},
   "outputs": [],
   "source": []
  },
  {
   "cell_type": "code",
   "execution_count": null,
   "id": "cc84bb71",
   "metadata": {},
   "outputs": [],
   "source": []
  },
  {
   "cell_type": "code",
   "execution_count": null,
   "id": "66b84d1b",
   "metadata": {},
   "outputs": [],
   "source": []
  },
  {
   "cell_type": "code",
   "execution_count": null,
   "id": "a38c1c94",
   "metadata": {},
   "outputs": [],
   "source": [
    "\n",
    "\n"
   ]
  }
 ],
 "metadata": {
  "kernelspec": {
   "display_name": "Python 3 (ipykernel)",
   "language": "python",
   "name": "python3"
  },
  "language_info": {
   "codemirror_mode": {
    "name": "ipython",
    "version": 3
   },
   "file_extension": ".py",
   "mimetype": "text/x-python",
   "name": "python",
   "nbconvert_exporter": "python",
   "pygments_lexer": "ipython3",
   "version": "3.9.12"
  }
 },
 "nbformat": 4,
 "nbformat_minor": 5
}
